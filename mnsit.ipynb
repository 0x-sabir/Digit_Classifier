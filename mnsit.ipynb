{
 "cells": [
  {
   "cell_type": "code",
   "execution_count": 1,
   "id": "42f2bf71",
   "metadata": {
    "execution": {
     "iopub.execute_input": "2024-11-08T15:58:36.409209Z",
     "iopub.status.busy": "2024-11-08T15:58:36.408457Z",
     "iopub.status.idle": "2024-11-08T15:58:37.293155Z",
     "shell.execute_reply": "2024-11-08T15:58:37.292127Z"
    },
    "papermill": {
     "duration": 0.893106,
     "end_time": "2024-11-08T15:58:37.295824",
     "exception": false,
     "start_time": "2024-11-08T15:58:36.402718",
     "status": "completed"
    },
    "tags": []
   },
   "outputs": [],
   "source": [
    "#Installing numpy,panda for Data-PreProcessing\n",
    "import numpy as np\n",
    "import pandas as pd\n",
    "from matplotlib import pyplot as plt # matplotlib-> plotting visual garph"
   ]
  },
  {
   "cell_type": "code",
   "execution_count": 2,
   "id": "5f18ee48",
   "metadata": {
    "execution": {
     "iopub.execute_input": "2024-11-08T15:58:37.306274Z",
     "iopub.status.busy": "2024-11-08T15:58:37.305487Z",
     "iopub.status.idle": "2024-11-08T15:58:40.661410Z",
     "shell.execute_reply": "2024-11-08T15:58:40.660187Z"
    },
    "papermill": {
     "duration": 3.364829,
     "end_time": "2024-11-08T15:58:40.664667",
     "exception": false,
     "start_time": "2024-11-08T15:58:37.299838",
     "status": "completed"
    },
    "tags": []
   },
   "outputs": [],
   "source": [
    "#reading the datasets\n",
    "data = pd.read_csv('/kaggle/input/digit-recognizer/train.csv')"
   ]
  },
  {
   "cell_type": "code",
   "execution_count": 3,
   "id": "e9ce4b3b",
   "metadata": {
    "execution": {
     "iopub.execute_input": "2024-11-08T15:58:40.676520Z",
     "iopub.status.busy": "2024-11-08T15:58:40.676073Z",
     "iopub.status.idle": "2024-11-08T15:58:40.701835Z",
     "shell.execute_reply": "2024-11-08T15:58:40.700736Z"
    },
    "papermill": {
     "duration": 0.03446,
     "end_time": "2024-11-08T15:58:40.704132",
     "exception": false,
     "start_time": "2024-11-08T15:58:40.669672",
     "status": "completed"
    },
    "tags": []
   },
   "outputs": [
    {
     "data": {
      "text/html": [
       "<div>\n",
       "<style scoped>\n",
       "    .dataframe tbody tr th:only-of-type {\n",
       "        vertical-align: middle;\n",
       "    }\n",
       "\n",
       "    .dataframe tbody tr th {\n",
       "        vertical-align: top;\n",
       "    }\n",
       "\n",
       "    .dataframe thead th {\n",
       "        text-align: right;\n",
       "    }\n",
       "</style>\n",
       "<table border=\"1\" class=\"dataframe\">\n",
       "  <thead>\n",
       "    <tr style=\"text-align: right;\">\n",
       "      <th></th>\n",
       "      <th>label</th>\n",
       "      <th>pixel0</th>\n",
       "      <th>pixel1</th>\n",
       "      <th>pixel2</th>\n",
       "      <th>pixel3</th>\n",
       "      <th>pixel4</th>\n",
       "      <th>pixel5</th>\n",
       "      <th>pixel6</th>\n",
       "      <th>pixel7</th>\n",
       "      <th>pixel8</th>\n",
       "      <th>...</th>\n",
       "      <th>pixel774</th>\n",
       "      <th>pixel775</th>\n",
       "      <th>pixel776</th>\n",
       "      <th>pixel777</th>\n",
       "      <th>pixel778</th>\n",
       "      <th>pixel779</th>\n",
       "      <th>pixel780</th>\n",
       "      <th>pixel781</th>\n",
       "      <th>pixel782</th>\n",
       "      <th>pixel783</th>\n",
       "    </tr>\n",
       "  </thead>\n",
       "  <tbody>\n",
       "    <tr>\n",
       "      <th>0</th>\n",
       "      <td>1</td>\n",
       "      <td>0</td>\n",
       "      <td>0</td>\n",
       "      <td>0</td>\n",
       "      <td>0</td>\n",
       "      <td>0</td>\n",
       "      <td>0</td>\n",
       "      <td>0</td>\n",
       "      <td>0</td>\n",
       "      <td>0</td>\n",
       "      <td>...</td>\n",
       "      <td>0</td>\n",
       "      <td>0</td>\n",
       "      <td>0</td>\n",
       "      <td>0</td>\n",
       "      <td>0</td>\n",
       "      <td>0</td>\n",
       "      <td>0</td>\n",
       "      <td>0</td>\n",
       "      <td>0</td>\n",
       "      <td>0</td>\n",
       "    </tr>\n",
       "    <tr>\n",
       "      <th>1</th>\n",
       "      <td>0</td>\n",
       "      <td>0</td>\n",
       "      <td>0</td>\n",
       "      <td>0</td>\n",
       "      <td>0</td>\n",
       "      <td>0</td>\n",
       "      <td>0</td>\n",
       "      <td>0</td>\n",
       "      <td>0</td>\n",
       "      <td>0</td>\n",
       "      <td>...</td>\n",
       "      <td>0</td>\n",
       "      <td>0</td>\n",
       "      <td>0</td>\n",
       "      <td>0</td>\n",
       "      <td>0</td>\n",
       "      <td>0</td>\n",
       "      <td>0</td>\n",
       "      <td>0</td>\n",
       "      <td>0</td>\n",
       "      <td>0</td>\n",
       "    </tr>\n",
       "    <tr>\n",
       "      <th>2</th>\n",
       "      <td>1</td>\n",
       "      <td>0</td>\n",
       "      <td>0</td>\n",
       "      <td>0</td>\n",
       "      <td>0</td>\n",
       "      <td>0</td>\n",
       "      <td>0</td>\n",
       "      <td>0</td>\n",
       "      <td>0</td>\n",
       "      <td>0</td>\n",
       "      <td>...</td>\n",
       "      <td>0</td>\n",
       "      <td>0</td>\n",
       "      <td>0</td>\n",
       "      <td>0</td>\n",
       "      <td>0</td>\n",
       "      <td>0</td>\n",
       "      <td>0</td>\n",
       "      <td>0</td>\n",
       "      <td>0</td>\n",
       "      <td>0</td>\n",
       "    </tr>\n",
       "    <tr>\n",
       "      <th>3</th>\n",
       "      <td>4</td>\n",
       "      <td>0</td>\n",
       "      <td>0</td>\n",
       "      <td>0</td>\n",
       "      <td>0</td>\n",
       "      <td>0</td>\n",
       "      <td>0</td>\n",
       "      <td>0</td>\n",
       "      <td>0</td>\n",
       "      <td>0</td>\n",
       "      <td>...</td>\n",
       "      <td>0</td>\n",
       "      <td>0</td>\n",
       "      <td>0</td>\n",
       "      <td>0</td>\n",
       "      <td>0</td>\n",
       "      <td>0</td>\n",
       "      <td>0</td>\n",
       "      <td>0</td>\n",
       "      <td>0</td>\n",
       "      <td>0</td>\n",
       "    </tr>\n",
       "    <tr>\n",
       "      <th>4</th>\n",
       "      <td>0</td>\n",
       "      <td>0</td>\n",
       "      <td>0</td>\n",
       "      <td>0</td>\n",
       "      <td>0</td>\n",
       "      <td>0</td>\n",
       "      <td>0</td>\n",
       "      <td>0</td>\n",
       "      <td>0</td>\n",
       "      <td>0</td>\n",
       "      <td>...</td>\n",
       "      <td>0</td>\n",
       "      <td>0</td>\n",
       "      <td>0</td>\n",
       "      <td>0</td>\n",
       "      <td>0</td>\n",
       "      <td>0</td>\n",
       "      <td>0</td>\n",
       "      <td>0</td>\n",
       "      <td>0</td>\n",
       "      <td>0</td>\n",
       "    </tr>\n",
       "  </tbody>\n",
       "</table>\n",
       "<p>5 rows × 785 columns</p>\n",
       "</div>"
      ],
      "text/plain": [
       "   label  pixel0  pixel1  pixel2  pixel3  pixel4  pixel5  pixel6  pixel7  \\\n",
       "0      1       0       0       0       0       0       0       0       0   \n",
       "1      0       0       0       0       0       0       0       0       0   \n",
       "2      1       0       0       0       0       0       0       0       0   \n",
       "3      4       0       0       0       0       0       0       0       0   \n",
       "4      0       0       0       0       0       0       0       0       0   \n",
       "\n",
       "   pixel8  ...  pixel774  pixel775  pixel776  pixel777  pixel778  pixel779  \\\n",
       "0       0  ...         0         0         0         0         0         0   \n",
       "1       0  ...         0         0         0         0         0         0   \n",
       "2       0  ...         0         0         0         0         0         0   \n",
       "3       0  ...         0         0         0         0         0         0   \n",
       "4       0  ...         0         0         0         0         0         0   \n",
       "\n",
       "   pixel780  pixel781  pixel782  pixel783  \n",
       "0         0         0         0         0  \n",
       "1         0         0         0         0  \n",
       "2         0         0         0         0  \n",
       "3         0         0         0         0  \n",
       "4         0         0         0         0  \n",
       "\n",
       "[5 rows x 785 columns]"
      ]
     },
     "execution_count": 3,
     "metadata": {},
     "output_type": "execute_result"
    }
   ],
   "source": [
    "#The head() method returns the first 5 rows if a number is not specified\n",
    "data.head()"
   ]
  },
  {
   "cell_type": "code",
   "execution_count": 4,
   "id": "48ffd656",
   "metadata": {
    "execution": {
     "iopub.execute_input": "2024-11-08T15:58:40.714043Z",
     "iopub.status.busy": "2024-11-08T15:58:40.713666Z",
     "iopub.status.idle": "2024-11-08T15:58:41.516526Z",
     "shell.execute_reply": "2024-11-08T15:58:41.515531Z"
    },
    "papermill": {
     "duration": 0.810794,
     "end_time": "2024-11-08T15:58:41.519100",
     "exception": false,
     "start_time": "2024-11-08T15:58:40.708306",
     "status": "completed"
    },
    "tags": []
   },
   "outputs": [],
   "source": [
    "data = np.array(data) # mapping data into an array\n",
    "m, n = data.shape # mapping data into number of rows(m) & columns(n)\n",
    "np.random.shuffle(data) # shuffle before splitting into dev and training sets\n",
    "\n",
    "data_dev = data[0:1000].T # Transpose the array \n",
    "Y_dev = data_dev[0]\n",
    "X_dev = data_dev[1:n]\n",
    "X_dev = X_dev / 255.\n",
    "\n",
    "\n",
    "data_train = data[1000:m].T\n",
    "Y_train = data_train[0]\n",
    "X_train = data_train[1:n]\n",
    "X_train = X_train / 255.\n",
    "_,m_train = X_train.shape\n"
   ]
  },
  {
   "cell_type": "code",
   "execution_count": null,
   "id": "03522411",
   "metadata": {
    "papermill": {
     "duration": 0.003856,
     "end_time": "2024-11-08T15:58:41.527392",
     "exception": false,
     "start_time": "2024-11-08T15:58:41.523536",
     "status": "completed"
    },
    "tags": []
   },
   "outputs": [],
   "source": []
  },
  {
   "cell_type": "code",
   "execution_count": 5,
   "id": "46a15f54",
   "metadata": {
    "execution": {
     "iopub.execute_input": "2024-11-08T15:58:41.537805Z",
     "iopub.status.busy": "2024-11-08T15:58:41.537442Z",
     "iopub.status.idle": "2024-11-08T15:58:41.544301Z",
     "shell.execute_reply": "2024-11-08T15:58:41.543260Z"
    },
    "papermill": {
     "duration": 0.014998,
     "end_time": "2024-11-08T15:58:41.546533",
     "exception": false,
     "start_time": "2024-11-08T15:58:41.531535",
     "status": "completed"
    },
    "tags": []
   },
   "outputs": [
    {
     "data": {
      "text/plain": [
       "array([8, 8, 4, ..., 3, 8, 5])"
      ]
     },
     "execution_count": 5,
     "metadata": {},
     "output_type": "execute_result"
    }
   ],
   "source": [
    "Y_train"
   ]
  },
  {
   "cell_type": "code",
   "execution_count": 6,
   "id": "f7068c49",
   "metadata": {
    "execution": {
     "iopub.execute_input": "2024-11-08T15:58:41.556236Z",
     "iopub.status.busy": "2024-11-08T15:58:41.555863Z",
     "iopub.status.idle": "2024-11-08T15:58:41.567763Z",
     "shell.execute_reply": "2024-11-08T15:58:41.566708Z"
    },
    "papermill": {
     "duration": 0.019311,
     "end_time": "2024-11-08T15:58:41.569942",
     "exception": false,
     "start_time": "2024-11-08T15:58:41.550631",
     "status": "completed"
    },
    "tags": []
   },
   "outputs": [],
   "source": [
    "def init_params():\n",
    "    W1 = np.random.rand(10, 784) - 0.5\n",
    "    b1 = np.random.rand(10, 1) - 0.5\n",
    "    W2 = np.random.rand(10, 10) - 0.5\n",
    "    b2 = np.random.rand(10, 1) - 0.5\n",
    "    return W1, b1, W2, b2\n",
    "\n",
    "def ReLU(Z):  # Activation Function \n",
    "    return np.maximum(Z, 0)\n",
    "\n",
    "def softmax(Z):  # Activation Function\n",
    "    A = np.exp(Z) / sum(np.exp(Z))\n",
    "    return A\n",
    "    \n",
    "def forward_prop(W1, b1, W2, b2, X):   # Function for FORWARD PROPAGATION\n",
    "    Z1 = W1.dot(X) + b1\n",
    "    A1 = ReLU(Z1)\n",
    "    Z2 = W2.dot(A1) + b2\n",
    "    A2 = softmax(Z2)\n",
    "    return Z1, A1, Z2, A2\n",
    "\n",
    "def ReLU_deriv(Z):\n",
    "    return Z > 0\n",
    "\n",
    "def one_hot(Y):   #  a one-hot vector is a 1 × N matrix (vector) used to distinguish each digit from 0-9\n",
    "    one_hot_Y = np.zeros((Y.size, Y.max() + 1)) \n",
    "    one_hot_Y[np.arange(Y.size), Y] = 1\n",
    "    one_hot_Y = one_hot_Y.T\n",
    "    return one_hot_Y\n",
    "\n",
    "def backward_prop(Z1, A1, Z2, A2, W1, W2, X, Y):  # Function for Backward Propagation\n",
    "    one_hot_Y = one_hot(Y)\n",
    "    dZ2 = A2 - one_hot_Y\n",
    "    dW2 = 1 / m * dZ2.dot(A1.T)\n",
    "    db2 = 1 / m * np.sum(dZ2)\n",
    "    dZ1 = W2.T.dot(dZ2) * ReLU_deriv(Z1)\n",
    "    dW1 = 1 / m * dZ1.dot(X.T)\n",
    "    db1 = 1 / m * np.sum(dZ1)\n",
    "    return dW1, db1, dW2, db2\n",
    "\n",
    "def update_params(W1, b1, W2, b2, dW1, db1, dW2, db2, alpha): # Function to update parameters\n",
    "    W1 = W1 - alpha * dW1\n",
    "    b1 = b1 - alpha * db1    \n",
    "    W2 = W2 - alpha * dW2  \n",
    "    b2 = b2 - alpha * db2    \n",
    "    return W1, b1, W2, b2\n",
    "    \n",
    "   "
   ]
  },
  {
   "cell_type": "markdown",
   "id": "6fe88125",
   "metadata": {
    "papermill": {
     "duration": 0.003816,
     "end_time": "2024-11-08T15:58:41.578006",
     "exception": false,
     "start_time": "2024-11-08T15:58:41.574190",
     "status": "completed"
    },
    "tags": []
   },
   "source": []
  },
  {
   "cell_type": "code",
   "execution_count": 7,
   "id": "fd663430",
   "metadata": {
    "execution": {
     "iopub.execute_input": "2024-11-08T15:58:41.588115Z",
     "iopub.status.busy": "2024-11-08T15:58:41.587684Z",
     "iopub.status.idle": "2024-11-08T15:58:41.596223Z",
     "shell.execute_reply": "2024-11-08T15:58:41.594959Z"
    },
    "papermill": {
     "duration": 0.016526,
     "end_time": "2024-11-08T15:58:41.598723",
     "exception": false,
     "start_time": "2024-11-08T15:58:41.582197",
     "status": "completed"
    },
    "tags": []
   },
   "outputs": [],
   "source": [
    "def get_predictions(A2):\n",
    "    return np.argmax(A2, 0)\n",
    "\n",
    "def get_accuracy(predictions, Y):\n",
    "    print(predictions, Y)\n",
    "    return np.sum(predictions == Y) / Y.size\n",
    "\n",
    "#Function for Gradient Descent\n",
    "def gradient_descent(X, Y, alpha, iterations):  \n",
    "    W1, b1, W2, b2 = init_params()\n",
    "    for i in range(iterations):\n",
    "        Z1, A1, Z2, A2 = forward_prop(W1, b1, W2, b2, X)\n",
    "        dW1, db1, dW2, db2 = backward_prop(Z1, A1, Z2, A2, W1, W2, X, Y)\n",
    "        W1, b1, W2, b2 = update_params(W1, b1, W2, b2, dW1, db1, dW2, db2, alpha)\n",
    "        if i % 10 == 0:\n",
    "            print(\"Iteration: \", i)\n",
    "            predictions = get_predictions(A2)\n",
    "            print(get_accuracy(predictions, Y))\n",
    "    return W1, b1, W2, b2"
   ]
  },
  {
   "cell_type": "code",
   "execution_count": 8,
   "id": "8a997282",
   "metadata": {
    "execution": {
     "iopub.execute_input": "2024-11-08T15:58:41.608868Z",
     "iopub.status.busy": "2024-11-08T15:58:41.608492Z",
     "iopub.status.idle": "2024-11-08T15:59:39.174828Z",
     "shell.execute_reply": "2024-11-08T15:59:39.173513Z"
    },
    "papermill": {
     "duration": 57.575147,
     "end_time": "2024-11-08T15:59:39.178166",
     "exception": false,
     "start_time": "2024-11-08T15:58:41.603019",
     "status": "completed"
    },
    "tags": []
   },
   "outputs": [
    {
     "name": "stdout",
     "output_type": "stream",
     "text": [
      "Iteration:  0\n",
      "[6 6 8 ... 6 6 6] [8 8 4 ... 3 8 5]\n",
      "0.05734146341463415\n",
      "Iteration:  10\n",
      "[1 3 7 ... 1 1 6] [8 8 4 ... 3 8 5]\n",
      "0.1808780487804878\n",
      "Iteration:  20\n",
      "[1 1 7 ... 1 1 1] [8 8 4 ... 3 8 5]\n",
      "0.30865853658536585\n",
      "Iteration:  30\n",
      "[1 1 7 ... 1 1 8] [8 8 4 ... 3 8 5]\n",
      "0.3734878048780488\n",
      "Iteration:  40\n",
      "[3 1 7 ... 1 1 8] [8 8 4 ... 3 8 5]\n",
      "0.4243658536585366\n",
      "Iteration:  50\n",
      "[3 1 7 ... 1 1 8] [8 8 4 ... 3 8 5]\n",
      "0.4709024390243902\n",
      "Iteration:  60\n",
      "[3 1 7 ... 1 8 8] [8 8 4 ... 3 8 5]\n",
      "0.515390243902439\n",
      "Iteration:  70\n",
      "[3 1 4 ... 1 8 8] [8 8 4 ... 3 8 5]\n",
      "0.5530731707317074\n",
      "Iteration:  80\n",
      "[3 8 4 ... 3 8 8] [8 8 4 ... 3 8 5]\n",
      "0.5844146341463414\n",
      "Iteration:  90\n",
      "[3 8 4 ... 3 8 8] [8 8 4 ... 3 8 5]\n",
      "0.6096585365853658\n",
      "Iteration:  100\n",
      "[3 8 4 ... 3 8 8] [8 8 4 ... 3 8 5]\n",
      "0.6311707317073171\n",
      "Iteration:  110\n",
      "[3 8 4 ... 3 8 8] [8 8 4 ... 3 8 5]\n",
      "0.6488780487804878\n",
      "Iteration:  120\n",
      "[3 8 4 ... 3 8 8] [8 8 4 ... 3 8 5]\n",
      "0.6646585365853659\n",
      "Iteration:  130\n",
      "[3 8 4 ... 3 8 8] [8 8 4 ... 3 8 5]\n",
      "0.6807317073170732\n",
      "Iteration:  140\n",
      "[3 8 4 ... 3 8 8] [8 8 4 ... 3 8 5]\n",
      "0.6940731707317073\n",
      "Iteration:  150\n",
      "[3 8 4 ... 3 8 8] [8 8 4 ... 3 8 5]\n",
      "0.7060731707317073\n",
      "Iteration:  160\n",
      "[3 8 4 ... 3 8 8] [8 8 4 ... 3 8 5]\n",
      "0.7192195121951219\n",
      "Iteration:  170\n",
      "[3 8 4 ... 3 8 8] [8 8 4 ... 3 8 5]\n",
      "0.7300731707317073\n",
      "Iteration:  180\n",
      "[3 8 4 ... 3 8 8] [8 8 4 ... 3 8 5]\n",
      "0.739\n",
      "Iteration:  190\n",
      "[3 8 4 ... 3 8 8] [8 8 4 ... 3 8 5]\n",
      "0.7470243902439024\n",
      "Iteration:  200\n",
      "[3 8 4 ... 3 8 8] [8 8 4 ... 3 8 5]\n",
      "0.7545853658536585\n",
      "Iteration:  210\n",
      "[3 8 4 ... 3 8 8] [8 8 4 ... 3 8 5]\n",
      "0.7622682926829268\n",
      "Iteration:  220\n",
      "[3 8 4 ... 3 8 8] [8 8 4 ... 3 8 5]\n",
      "0.7694634146341464\n",
      "Iteration:  230\n",
      "[3 8 4 ... 3 8 8] [8 8 4 ... 3 8 5]\n",
      "0.7765121951219512\n",
      "Iteration:  240\n",
      "[3 8 4 ... 3 8 5] [8 8 4 ... 3 8 5]\n",
      "0.7821219512195122\n",
      "Iteration:  250\n",
      "[3 8 4 ... 3 8 5] [8 8 4 ... 3 8 5]\n",
      "0.7872439024390244\n",
      "Iteration:  260\n",
      "[3 8 4 ... 3 8 5] [8 8 4 ... 3 8 5]\n",
      "0.7923658536585366\n",
      "Iteration:  270\n",
      "[3 8 4 ... 3 8 5] [8 8 4 ... 3 8 5]\n",
      "0.7969512195121952\n",
      "Iteration:  280\n",
      "[3 8 4 ... 3 8 5] [8 8 4 ... 3 8 5]\n",
      "0.8011463414634147\n",
      "Iteration:  290\n",
      "[3 8 4 ... 3 8 5] [8 8 4 ... 3 8 5]\n",
      "0.8050487804878049\n",
      "Iteration:  300\n",
      "[3 8 4 ... 3 8 5] [8 8 4 ... 3 8 5]\n",
      "0.8087560975609757\n",
      "Iteration:  310\n",
      "[8 8 4 ... 3 5 5] [8 8 4 ... 3 8 5]\n",
      "0.8123902439024391\n",
      "Iteration:  320\n",
      "[8 8 4 ... 3 5 5] [8 8 4 ... 3 8 5]\n",
      "0.8152195121951219\n",
      "Iteration:  330\n",
      "[8 8 4 ... 3 5 5] [8 8 4 ... 3 8 5]\n",
      "0.8178536585365853\n",
      "Iteration:  340\n",
      "[8 8 4 ... 3 5 5] [8 8 4 ... 3 8 5]\n",
      "0.820560975609756\n",
      "Iteration:  350\n",
      "[8 8 4 ... 3 5 5] [8 8 4 ... 3 8 5]\n",
      "0.8234390243902439\n",
      "Iteration:  360\n",
      "[8 8 4 ... 3 5 5] [8 8 4 ... 3 8 5]\n",
      "0.8255853658536585\n",
      "Iteration:  370\n",
      "[8 8 4 ... 3 5 5] [8 8 4 ... 3 8 5]\n",
      "0.8286585365853658\n",
      "Iteration:  380\n",
      "[8 8 4 ... 3 5 5] [8 8 4 ... 3 8 5]\n",
      "0.8313414634146341\n",
      "Iteration:  390\n",
      "[8 8 4 ... 3 5 5] [8 8 4 ... 3 8 5]\n",
      "0.8330975609756097\n",
      "Iteration:  400\n",
      "[8 8 4 ... 3 5 5] [8 8 4 ... 3 8 5]\n",
      "0.835390243902439\n",
      "Iteration:  410\n",
      "[8 8 4 ... 3 5 5] [8 8 4 ... 3 8 5]\n",
      "0.8370243902439024\n",
      "Iteration:  420\n",
      "[8 8 4 ... 3 5 5] [8 8 4 ... 3 8 5]\n",
      "0.8384146341463414\n",
      "Iteration:  430\n",
      "[8 8 4 ... 3 5 5] [8 8 4 ... 3 8 5]\n",
      "0.8403658536585366\n",
      "Iteration:  440\n",
      "[8 8 4 ... 3 5 5] [8 8 4 ... 3 8 5]\n",
      "0.842\n",
      "Iteration:  450\n",
      "[8 8 4 ... 3 5 5] [8 8 4 ... 3 8 5]\n",
      "0.8436829268292683\n",
      "Iteration:  460\n",
      "[8 8 4 ... 3 5 5] [8 8 4 ... 3 8 5]\n",
      "0.8454878048780488\n",
      "Iteration:  470\n",
      "[8 8 4 ... 3 5 5] [8 8 4 ... 3 8 5]\n",
      "0.8465609756097561\n",
      "Iteration:  480\n",
      "[8 8 4 ... 3 5 5] [8 8 4 ... 3 8 5]\n",
      "0.848\n",
      "Iteration:  490\n",
      "[8 8 4 ... 3 5 5] [8 8 4 ... 3 8 5]\n",
      "0.8493414634146341\n"
     ]
    }
   ],
   "source": [
    "W1, b1, W2, b2 = gradient_descent(X_train, Y_train, 0.10, 500)"
   ]
  },
  {
   "cell_type": "code",
   "execution_count": 9,
   "id": "6d2fe7c3",
   "metadata": {
    "execution": {
     "iopub.execute_input": "2024-11-08T15:59:39.204907Z",
     "iopub.status.busy": "2024-11-08T15:59:39.204365Z",
     "iopub.status.idle": "2024-11-08T15:59:39.214474Z",
     "shell.execute_reply": "2024-11-08T15:59:39.213245Z"
    },
    "papermill": {
     "duration": 0.026814,
     "end_time": "2024-11-08T15:59:39.217244",
     "exception": false,
     "start_time": "2024-11-08T15:59:39.190430",
     "status": "completed"
    },
    "tags": []
   },
   "outputs": [],
   "source": [
    "def make_predictions(X, W1, b1, W2, b2):\n",
    "    _, _, _, A2 = forward_prop(W1,b1,W2,b2,X)\n",
    "    predictions = get_predictions(A2)\n",
    "    return predictions\n",
    "\n",
    "def test_prediction(index, W1,b1,W2, b2):\n",
    "    current_image = X_train[:,index,None]\n",
    "    prediction = make_predictions(X_train[:,index,None],W1,b1,W2,b2)\n",
    "    label = Y_train[index]\n",
    "    print(\"Prediction: \",prediction)\n",
    "    print(\"Label :\",label)\n",
    "    \n",
    "    current_image = current_image.reshape((28,28)) * 255\n",
    "    plt.gray()\n",
    "    plt.imshow(current_image,interpolation=\"nearest\")\n",
    "    plt.show()"
   ]
  },
  {
   "cell_type": "code",
   "execution_count": 10,
   "id": "61922876",
   "metadata": {
    "execution": {
     "iopub.execute_input": "2024-11-08T15:59:39.243613Z",
     "iopub.status.busy": "2024-11-08T15:59:39.243071Z",
     "iopub.status.idle": "2024-11-08T15:59:39.917065Z",
     "shell.execute_reply": "2024-11-08T15:59:39.915986Z"
    },
    "papermill": {
     "duration": 0.690268,
     "end_time": "2024-11-08T15:59:39.919769",
     "exception": false,
     "start_time": "2024-11-08T15:59:39.229501",
     "status": "completed"
    },
    "tags": []
   },
   "outputs": [
    {
     "name": "stdout",
     "output_type": "stream",
     "text": [
      "Prediction:  [8]\n",
      "Label : 8\n"
     ]
    },
    {
     "data": {
      "image/png": "[encoded data removed]",
      "text/plain": [
       "<Figure size 640x480 with 1 Axes>"
      ]
     },
     "metadata": {},
     "output_type": "display_data"
    },
    {
     "name": "stdout",
     "output_type": "stream",
     "text": [
      "Prediction:  [8]\n",
      "Label : 8\n"
     ]
    },
    {
     "data": {
      "image/png": "[encoded data removed]",
      "text/plain": [
       "<Figure size 640x480 with 1 Axes>"
      ]
     },
     "metadata": {},
     "output_type": "display_data"
    },
    {
     "name": "stdout",
     "output_type": "stream",
     "text": [
      "Prediction:  [4]\n",
      "Label : 4\n"
     ]
    },
    {
     "data": {
      "image/png": "[encoded data removed]",
      "text/plain": [
       "<Figure size 640x480 with 1 Axes>"
      ]
     },
     "metadata": {},
     "output_type": "display_data"
    },
    {
     "name": "stdout",
     "output_type": "stream",
     "text": [
      "Prediction:  [0]\n",
      "Label : 0\n"
     ]
    },
    {
     "data": {
      "image/png": "[encoded data removed]",
      "text/plain": [
       "<Figure size 640x480 with 1 Axes>"
      ]
     },
     "metadata": {},
     "output_type": "display_data"
    }
   ],
   "source": [
    "test_prediction(0, W1, b1, W2, b2)\n",
    "test_prediction(1, W1, b1, W2, b2)\n",
    "test_prediction(2, W1, b1, W2, b2)\n",
    "test_prediction(3, W1, b1, W2, b2)"
   ]
  },
  {
   "cell_type": "raw",
   "id": "6f34807e",
   "metadata": {
    "papermill": {
     "duration": 0.008208,
     "end_time": "2024-11-08T15:59:39.936803",
     "exception": false,
     "start_time": "2024-11-08T15:59:39.928595",
     "status": "completed"
    },
    "tags": []
   },
   "source": []
  }
 ],
 "metadata": {
  "kaggle": {
   "accelerator": "none",
   "dataSources": [
    {
     "databundleVersionId": 861823,
     "sourceId": 3004,
     "sourceType": "competition"
    }
   ],
   "dockerImageVersionId": 30646,
   "isGpuEnabled": false,
   "isInternetEnabled": true,
   "language": "python",
   "sourceType": "notebook"
  },
  "kernelspec": {
   "display_name": "Python 3",
   "language": "python",
   "name": "python3"
  },
  "language_info": {
   "codemirror_mode": {
    "name": "ipython",
    "version": 3
   },
   "file_extension": ".py",
   "mimetype": "text/x-python",
   "name": "python",
   "nbconvert_exporter": "python",
   "pygments_lexer": "ipython3",
   "version": "3.10.13"
  },
  "papermill": {
   "default_parameters": {},
   "duration": 67.326195,
   "end_time": "2024-11-08T15:59:40.467171",
   "environment_variables": {},
   "exception": null,
   "input_path": "__notebook__.ipynb",
   "output_path": "__notebook__.ipynb",
   "parameters": {},
   "start_time": "2024-11-08T15:58:33.140976",
   "version": "2.5.0"
  }
 },
 "nbformat": 4,
 "nbformat_minor": 5
}
